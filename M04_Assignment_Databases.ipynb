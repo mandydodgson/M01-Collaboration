{
 "cells": [
  {
   "cell_type": "code",
   "execution_count": null,
   "id": "d46fffed",
   "metadata": {},
   "outputs": [],
   "source": [
    "import sqlite3\n",
    "connection = sqlite3.connect(\"Database.db\")\n",
    "\n",
    "#creating the cursor object\n",
    "cursor = connection.cursor()\n",
    "\n",
    "\n",
    "#statement to create tables\n",
    "create_studentinfo_tbl  = \"\"\"CREATE TABLE IF NOT EXISTS studentinfo_tbl(\n",
    "                    StudentID INTEGER,\n",
    "                    FirstName TEXT,\n",
    "                    LastName TEXT,\n",
    "                    Email TEXT,\n",
    "                    ProgramID INTEGER\n",
    "                    )\"\"\"\n",
    "\n",
    "create_program_tbl  = \"\"\"CREATE TABLE IF NOT EXISTS program_tbl(\n",
    "                    ProgramID INTEGER,\n",
    "                    ProgramName TEXT,\n",
    "                    DepartmentID INTEGER\n",
    "                    )\"\"\"\n",
    "\n",
    "create_department_tbl  = \"\"\"CREATE TABLE IF NOT EXISTS department_tbl(\n",
    "                    DepartmentID INTEGER,\n",
    "                    DepartmentName TEXT\n",
    "                    )\"\"\"\n",
    "\n",
    "\n",
    "#actually creating the table\n",
    "cursor.execute(create_studentinfo_tbl)\n",
    "cursor.execute(create_program_tbl)\n",
    "cursor.execute(create_department_tbl)\n",
    "\n",
    "cursor.execute(\"\"\"INSERT INTO studentinfo_tbl(StudentID, FirstName, LastName, Email, ProgramID) VALUES(123, \"Mandy\", \"Dodgson\", \"mdodgson@ivytech.edu\", 1000)\"\"\")\n",
    "cursor.execute(\"\"\"INSERT INTO studentinfo_tbl(StudentID, FirstName, LastName, Email, ProgramID) VALUES(456, \"Jill\", \"Dieken\", \"jdieken@ivytech.edu\", 2000)\"\"\")\n",
    "cursor.execute(\"\"\"INSERT INTO studentinfo_tbl(StudentID, FirstName, LastName, Email, ProgramID) VALUES(789, \"Amanda\", \"Winter\", \"awinter@ivytech.edu\", 1000)\"\"\")\n",
    "cursor.execute(\"\"\"INSERT INTO studentinfo_tbl(StudentID, FirstName, LastName, Email, ProgramID) VALUES(147, \"Josh\", \"Turpin\", \"jturpin@ivytech.edu\", 3000)\"\"\")\n",
    "cursor.execute(\"\"\"INSERT INTO studentinfo_tbl(StudentID, FirstName, LastName, Email, ProgramID) VALUES(258, \"Sam\", \"Lewis\", \"slewis@ivytech.edu\", 3000)\"\"\")\n",
    "\n",
    "cursor.execute(\"\"\"INSERT INTO program_tbl(ProgramID, ProgramName, DepartmentID) VALUES(1000, \"Data Analytics\", 123456)\"\"\")\n",
    "cursor.execute(\"\"\"INSERT INTO program_tbl(ProgramID, ProgramName, DepartmentID) VALUES(2000, \"Software Development\", 123456)\"\"\")\n",
    "cursor.execute(\"\"\"INSERT INTO program_tbl(ProgramID, ProgramName, DepartmentID) VALUES(3000, \"Networking\", 123456)\"\"\")\n",
    "\n",
    "cursor.execute(\"\"\"INSERT INTO department_tbl(DepartmentID, DepartmentName) VALUES(123456, \"Information Technology\")\"\"\")\n",
    "\n",
    "cursor.execute(\"SELECT * FROM studentinfo_tbl\")\n",
    "cursor.execute(\"SELECT * FROM program_tbl\")\n",
    "cursor.execute(\"SELECT * FROM department_tbl\")\n",
    "print(cursor.fetchall())\n",
    "connection.commit()\n",
    "connection.close()\n"
   ]
  }
 ],
 "metadata": {
  "kernelspec": {
   "display_name": "Python 3 (ipykernel)",
   "language": "python",
   "name": "python3"
  },
  "language_info": {
   "codemirror_mode": {
    "name": "ipython",
    "version": 3
   },
   "file_extension": ".py",
   "mimetype": "text/x-python",
   "name": "python",
   "nbconvert_exporter": "python",
   "pygments_lexer": "ipython3",
   "version": "3.11.5"
  }
 },
 "nbformat": 4,
 "nbformat_minor": 5
}
