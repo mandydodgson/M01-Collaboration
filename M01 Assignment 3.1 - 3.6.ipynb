{
 "cells": [
  {
   "cell_type": "markdown",
   "id": "8f5d455e",
   "metadata": {},
   "source": [
    "3.1 I will multiply 60*60"
   ]
  },
  {
   "cell_type": "code",
   "execution_count": 1,
   "id": "3816308d",
   "metadata": {},
   "outputs": [
    {
     "data": {
      "text/plain": [
       "3600"
      ]
     },
     "execution_count": 1,
     "metadata": {},
     "output_type": "execute_result"
    }
   ],
   "source": [
    "60*60"
   ]
  },
  {
   "cell_type": "markdown",
   "id": "3672b385",
   "metadata": {},
   "source": [
    "3.2 Assign the result from the previous task (seconds in an hour) to a variable called seconds_per_hour."
   ]
  },
  {
   "cell_type": "code",
   "execution_count": 2,
   "id": "a15cd593",
   "metadata": {},
   "outputs": [],
   "source": [
    "seconds_per_hour = 3600"
   ]
  },
  {
   "cell_type": "markdown",
   "id": "9f4e0dd7",
   "metadata": {},
   "source": [
    "3.3 How many seconds are in a day? Use your seconds_per_hour variable."
   ]
  },
  {
   "cell_type": "code",
   "execution_count": 3,
   "id": "94a48d60",
   "metadata": {},
   "outputs": [
    {
     "data": {
      "text/plain": [
       "86400"
      ]
     },
     "execution_count": 3,
     "metadata": {},
     "output_type": "execute_result"
    }
   ],
   "source": [
    "seconds_per_hour*24"
   ]
  },
  {
   "cell_type": "markdown",
   "id": "265d9d7d",
   "metadata": {},
   "source": [
    "3.4 Calculate seconds per day again, but this time save the result in a variable called seconds_per_day."
   ]
  },
  {
   "cell_type": "code",
   "execution_count": 5,
   "id": "c999934c",
   "metadata": {},
   "outputs": [],
   "source": [
    "seconds_per_day = seconds_per_hour*24"
   ]
  },
  {
   "cell_type": "markdown",
   "id": "a5ff3345",
   "metadata": {},
   "source": [
    "3.5 Divide seconds_per_day by seconds_per_hour. Use floating-point (/) division."
   ]
  },
  {
   "cell_type": "code",
   "execution_count": 6,
   "id": "d278b7eb",
   "metadata": {},
   "outputs": [
    {
     "data": {
      "text/plain": [
       "24.0"
      ]
     },
     "execution_count": 6,
     "metadata": {},
     "output_type": "execute_result"
    }
   ],
   "source": [
    "seconds_per_day/seconds_per_hour"
   ]
  },
  {
   "cell_type": "markdown",
   "id": "44932d6d",
   "metadata": {},
   "source": [
    "3.6 Divide seconds_per_day by seconds_per_hour, using integer (//) division. Did this number agree with the floating-point value from the previous question, aside from the final .0? "
   ]
  },
  {
   "cell_type": "code",
   "execution_count": 7,
   "id": "6dcf5cae",
   "metadata": {},
   "outputs": [
    {
     "data": {
      "text/plain": [
       "24"
      ]
     },
     "execution_count": 7,
     "metadata": {},
     "output_type": "execute_result"
    }
   ],
   "source": [
    "seconds_per_day//seconds_per_hour"
   ]
  },
  {
   "cell_type": "markdown",
   "id": "b18d9e86",
   "metadata": {},
   "source": [
    "Yes it did agree with the previous answer."
   ]
  }
 ],
 "metadata": {
  "kernelspec": {
   "display_name": "Python 3 (ipykernel)",
   "language": "python",
   "name": "python3"
  },
  "language_info": {
   "codemirror_mode": {
    "name": "ipython",
    "version": 3
   },
   "file_extension": ".py",
   "mimetype": "text/x-python",
   "name": "python",
   "nbconvert_exporter": "python",
   "pygments_lexer": "ipython3",
   "version": "3.11.5"
  }
 },
 "nbformat": 4,
 "nbformat_minor": 5
}
