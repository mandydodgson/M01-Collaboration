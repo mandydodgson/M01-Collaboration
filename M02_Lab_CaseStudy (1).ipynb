{
 "cells": [
  {
   "cell_type": "code",
   "execution_count": 1,
   "id": "b3c46bc5",
   "metadata": {},
   "outputs": [
    {
     "name": "stdout",
     "output_type": "stream",
     "text": [
      "Enter the student's last name or 'ZZZ' to exit: Dodgson\n",
      "Enter the student's first name: Mandy\n",
      "Enter the student's GPA: 3.5\n",
      "Mandy Dodgson has made the Dean's List!\n",
      "Enter the student's last name or 'ZZZ' to exit: McDaniel\n",
      "Enter the student's first name: Lee\n",
      "Enter the student's GPA: 3.15\n",
      "Lee McDaniel has not made the Honor Roll or Dean's List!\n",
      "Enter the student's last name or 'ZZZ' to exit: Foshee\n",
      "Enter the student's first name: Jill\n",
      "Enter the student's GPA: 4.0\n",
      "Jill Foshee has made the Dean's List!\n",
      "Enter the student's last name or 'ZZZ' to exit: Winter\n",
      "Enter the student's first name: Amanda\n",
      "Enter the student's GPA: 3.26\n",
      "Amanda Winter has made the Honor Roll!\n",
      "Enter the student's last name or 'ZZZ' to exit: Turpin\n",
      "Enter the student's first name: Jessica\n",
      "Enter the student's GPA: 3.74\n",
      "Jessica Turpin has made the Dean's List!\n",
      "Enter the student's last name or 'ZZZ' to exit: Johnson\n",
      "Enter the student's first name: Jennifer\n",
      "Enter the student's GPA: 3.49\n",
      "Jennifer Johnson has made the Honor Roll!\n",
      "Enter the student's last name or 'ZZZ' to exit: ZZZ\n"
     ]
    }
   ],
   "source": [
    "#Mandy Dodgson\n",
    "#M02_Lab_CaseStudy\n",
    "#This program takes the students name and GPA and determines if the are on the Honor Roll, Dean's List or Neither. \n",
    "#You can aslo exit the program if no longer needed.\n",
    "\n",
    "\n",
    "\n",
    "while True:\n",
    "    last_name = input(\"Enter the student's last name or 'ZZZ' to exit: \")\n",
    "    if last_name == 'ZZZ':\n",
    "        break\n",
    "    first_name = input(\"Enter the student's first name: \")\n",
    "    gpa = float(input(\"Enter the student's GPA: \"))\n",
    "    if gpa >= 3.5:\n",
    "        print(first_name + \" \" + last_name + \" has made the Dean's List!\")\n",
    "    elif gpa >= 3.25:\n",
    "        print(first_name + \" \" + last_name +  \" has made the Honor Roll!\")\n",
    "    elif gpa < 3.25:\n",
    "        print (first_name + \" \" + last_name + \" has not made the Honor Roll or Dean's List!\")"
   ]
  },
  {
   "cell_type": "code",
   "execution_count": null,
   "id": "1425716f",
   "metadata": {},
   "outputs": [],
   "source": []
  }
 ],
 "metadata": {
  "kernelspec": {
   "display_name": "Python 3 (ipykernel)",
   "language": "python",
   "name": "python3"
  },
  "language_info": {
   "codemirror_mode": {
    "name": "ipython",
    "version": 3
   },
   "file_extension": ".py",
   "mimetype": "text/x-python",
   "name": "python",
   "nbconvert_exporter": "python",
   "pygments_lexer": "ipython3",
   "version": "3.11.5"
  }
 },
 "nbformat": 4,
 "nbformat_minor": 5
}
